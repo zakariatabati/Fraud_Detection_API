{
 "cells": [
  {
   "cell_type": "code",
   "execution_count": 25,
   "id": "32114c23-0fc6-4439-a7b8-9f9756ffb59b",
   "metadata": {},
   "outputs": [],
   "source": [
    "import pandas as pd\n",
    "import numpy as np\n",
    "import seaborn as sns\n",
    "import matplotlib.pyplot as plt"
   ]
  },
  {
   "cell_type": "markdown",
   "id": "5cf4cab1-338d-4641-9df4-0d9b25c84257",
   "metadata": {},
   "source": [
    "## Get data"
   ]
  },
  {
   "cell_type": "code",
   "execution_count": 2,
   "id": "91ab4cb7-f400-4f3f-9160-489b7633ff93",
   "metadata": {},
   "outputs": [],
   "source": [
    "df = pd.read_csv(\"../data/claned_data.csv\")"
   ]
  },
  {
   "cell_type": "code",
   "execution_count": 3,
   "id": "a6e208f9-8fef-42a8-b9fe-69faa2df7e0b",
   "metadata": {},
   "outputs": [
    {
     "data": {
      "text/html": [
       "<div>\n",
       "<style scoped>\n",
       "    .dataframe tbody tr th:only-of-type {\n",
       "        vertical-align: middle;\n",
       "    }\n",
       "\n",
       "    .dataframe tbody tr th {\n",
       "        vertical-align: top;\n",
       "    }\n",
       "\n",
       "    .dataframe thead th {\n",
       "        text-align: right;\n",
       "    }\n",
       "</style>\n",
       "<table border=\"1\" class=\"dataframe\">\n",
       "  <thead>\n",
       "    <tr style=\"text-align: right;\">\n",
       "      <th></th>\n",
       "      <th>Unnamed: 0</th>\n",
       "      <th>amt</th>\n",
       "      <th>gender</th>\n",
       "      <th>category</th>\n",
       "      <th>is_fraud</th>\n",
       "    </tr>\n",
       "  </thead>\n",
       "  <tbody>\n",
       "    <tr>\n",
       "      <th>0</th>\n",
       "      <td>10179</td>\n",
       "      <td>92.15</td>\n",
       "      <td>M</td>\n",
       "      <td>gas_transport</td>\n",
       "      <td>0</td>\n",
       "    </tr>\n",
       "    <tr>\n",
       "      <th>1</th>\n",
       "      <td>1183464</td>\n",
       "      <td>54.71</td>\n",
       "      <td>M</td>\n",
       "      <td>food_dining</td>\n",
       "      <td>0</td>\n",
       "    </tr>\n",
       "    <tr>\n",
       "      <th>2</th>\n",
       "      <td>841996</td>\n",
       "      <td>1.83</td>\n",
       "      <td>F</td>\n",
       "      <td>shopping_pos</td>\n",
       "      <td>0</td>\n",
       "    </tr>\n",
       "    <tr>\n",
       "      <th>3</th>\n",
       "      <td>1269333</td>\n",
       "      <td>63.55</td>\n",
       "      <td>M</td>\n",
       "      <td>grocery_pos</td>\n",
       "      <td>0</td>\n",
       "    </tr>\n",
       "    <tr>\n",
       "      <th>4</th>\n",
       "      <td>1116233</td>\n",
       "      <td>11.77</td>\n",
       "      <td>F</td>\n",
       "      <td>health_fitness</td>\n",
       "      <td>0</td>\n",
       "    </tr>\n",
       "  </tbody>\n",
       "</table>\n",
       "</div>"
      ],
      "text/plain": [
       "   Unnamed: 0    amt gender        category  is_fraud\n",
       "0       10179  92.15      M   gas_transport         0\n",
       "1     1183464  54.71      M     food_dining         0\n",
       "2      841996   1.83      F    shopping_pos         0\n",
       "3     1269333  63.55      M     grocery_pos         0\n",
       "4     1116233  11.77      F  health_fitness         0"
      ]
     },
     "execution_count": 3,
     "metadata": {},
     "output_type": "execute_result"
    }
   ],
   "source": [
    "df.head()"
   ]
  },
  {
   "cell_type": "code",
   "execution_count": 4,
   "id": "030ac346-76c7-4dcf-9c49-c3b29d0a79a0",
   "metadata": {},
   "outputs": [],
   "source": [
    "df.drop(columns=[\"Unnamed: 0\"],inplace=True)"
   ]
  },
  {
   "cell_type": "markdown",
   "id": "37019dcf-6dca-4039-9584-243ffe6d1ef6",
   "metadata": {},
   "source": [
    "# prepare data for Training"
   ]
  },
  {
   "cell_type": "code",
   "execution_count": 5,
   "id": "429582f9-5d14-43c2-b3af-f527e0bfd574",
   "metadata": {},
   "outputs": [],
   "source": [
    "## Categorical encoding\n",
    "from sklearn.preprocessing import LabelEncoder\n",
    "lable_enc = LabelEncoder()\n",
    "df[\"gender\"] = lable_enc.fit_transform(df[\"gender\"])\n",
    "df[\"category\"] = lable_enc.fit_transform(df[\"category\"])"
   ]
  },
  {
   "cell_type": "code",
   "execution_count": 6,
   "id": "91a40d75-d73d-4661-bde7-a8b0e72d0cd0",
   "metadata": {},
   "outputs": [],
   "source": [
    "## Feature scaling\n",
    "from sklearn.preprocessing import MinMaxScaler\n",
    "min_max_scale = MinMaxScaler()\n",
    "df[\"amt\"] = min_max_scale.fit_transform(df[[\"amt\"]])"
   ]
  },
  {
   "cell_type": "code",
   "execution_count": 7,
   "id": "b4514cf8-c41c-4ff6-9e05-9cf47ed010e3",
   "metadata": {},
   "outputs": [
    {
     "data": {
      "text/html": [
       "<div>\n",
       "<style scoped>\n",
       "    .dataframe tbody tr th:only-of-type {\n",
       "        vertical-align: middle;\n",
       "    }\n",
       "\n",
       "    .dataframe tbody tr th {\n",
       "        vertical-align: top;\n",
       "    }\n",
       "\n",
       "    .dataframe thead th {\n",
       "        text-align: right;\n",
       "    }\n",
       "</style>\n",
       "<table border=\"1\" class=\"dataframe\">\n",
       "  <thead>\n",
       "    <tr style=\"text-align: right;\">\n",
       "      <th></th>\n",
       "      <th>amt</th>\n",
       "      <th>gender</th>\n",
       "      <th>category</th>\n",
       "      <th>is_fraud</th>\n",
       "    </tr>\n",
       "  </thead>\n",
       "  <tbody>\n",
       "    <tr>\n",
       "      <th>0</th>\n",
       "      <td>0.006138</td>\n",
       "      <td>1</td>\n",
       "      <td>2</td>\n",
       "      <td>0</td>\n",
       "    </tr>\n",
       "    <tr>\n",
       "      <th>1</th>\n",
       "      <td>0.003616</td>\n",
       "      <td>1</td>\n",
       "      <td>1</td>\n",
       "      <td>0</td>\n",
       "    </tr>\n",
       "    <tr>\n",
       "      <th>2</th>\n",
       "      <td>0.000055</td>\n",
       "      <td>0</td>\n",
       "      <td>12</td>\n",
       "      <td>0</td>\n",
       "    </tr>\n",
       "    <tr>\n",
       "      <th>3</th>\n",
       "      <td>0.004212</td>\n",
       "      <td>1</td>\n",
       "      <td>4</td>\n",
       "      <td>0</td>\n",
       "    </tr>\n",
       "    <tr>\n",
       "      <th>4</th>\n",
       "      <td>0.000725</td>\n",
       "      <td>0</td>\n",
       "      <td>5</td>\n",
       "      <td>0</td>\n",
       "    </tr>\n",
       "  </tbody>\n",
       "</table>\n",
       "</div>"
      ],
      "text/plain": [
       "        amt  gender  category  is_fraud\n",
       "0  0.006138       1         2         0\n",
       "1  0.003616       1         1         0\n",
       "2  0.000055       0        12         0\n",
       "3  0.004212       1         4         0\n",
       "4  0.000725       0         5         0"
      ]
     },
     "execution_count": 7,
     "metadata": {},
     "output_type": "execute_result"
    }
   ],
   "source": [
    "df.head()"
   ]
  },
  {
   "cell_type": "markdown",
   "id": "38878471-a5f4-4bc9-bddd-08b433c68aaf",
   "metadata": {},
   "source": [
    "## Training Models"
   ]
  },
  {
   "cell_type": "code",
   "execution_count": 8,
   "id": "788a9d9f-9881-43e1-a2f3-087d0e0211e5",
   "metadata": {},
   "outputs": [],
   "source": [
    "from  sklearn.linear_model import LogisticRegression\n",
    "from sklearn.svm import SVC\n",
    "from sklearn.tree import DecisionTreeClassifier\n",
    "from sklearn.ensemble import RandomForestClassifier"
   ]
  },
  {
   "cell_type": "code",
   "execution_count": 27,
   "id": "28ea7d25-acc6-4d01-94a3-60f7b41bb98f",
   "metadata": {},
   "outputs": [],
   "source": [
    "from sklearn.model_selection import train_test_split\n",
    "from sklearn.metrics import classification_report\n",
    "from sklearn.metrics import confusion_matrix,precision_score,ConfusionMatrixDisplay,recall_score"
   ]
  },
  {
   "cell_type": "code",
   "execution_count": 10,
   "id": "a3b362c2-1b3d-4056-b8e8-6f30336cd3b6",
   "metadata": {},
   "outputs": [],
   "source": [
    "y = df[\"is_fraud\"]\n",
    "x = df.drop(columns=[\"is_fraud\"])"
   ]
  },
  {
   "cell_type": "code",
   "execution_count": 11,
   "id": "696b8695-22ca-4c40-b28c-c7acfff2769d",
   "metadata": {},
   "outputs": [],
   "source": [
    "x_train, x_test, y_train, y_test = train_test_split(x, y, test_size=0.33, random_state=42)"
   ]
  },
  {
   "cell_type": "code",
   "execution_count": 12,
   "id": "b4a5238f-1f29-4498-83ac-c2bd9ba93b97",
   "metadata": {},
   "outputs": [],
   "source": [
    "models = {\n",
    "    \"logistic_model\" : LogisticRegression(),\n",
    "    \"svm_model\" : SVC(),\n",
    "    \"decisionTree_model\" : DecisionTreeClassifier(),\n",
    "    \"RandomForest_model\" : RandomForestClassifier()\n",
    "}"
   ]
  },
  {
   "cell_type": "code",
   "execution_count": 13,
   "id": "b5b7bf6a-4aff-4d5e-8be3-6a260a02be97",
   "metadata": {},
   "outputs": [],
   "source": [
    "for i in models.keys():\n",
    "    models[i].fit(x_train,y_train)"
   ]
  },
  {
   "cell_type": "code",
   "execution_count": 28,
   "id": "b0f6f2e7-a0dd-47f4-a021-b68565e1b4b0",
   "metadata": {},
   "outputs": [
    {
     "name": "stdout",
     "output_type": "stream",
     "text": [
      "logistic_model performence :\n",
      "0.7191370355573312\n",
      "svm_model performence :\n",
      "0.564522572912505\n",
      "decisionTree_model performence :\n",
      "0.9480623252097483\n",
      "RandomForest_model performence :\n",
      "0.9576508190171794\n"
     ]
    }
   ],
   "source": [
    "for i in models.keys():\n",
    "    print(i,\"performence :\")\n",
    "    y_predict = models[i].predict(x_test)\n",
    "    print(recall_score(y_test,y_predict))"
   ]
  },
  {
   "cell_type": "code",
   "execution_count": 26,
   "id": "8e8b2968-ec53-4b74-98f8-acd19c5de956",
   "metadata": {},
   "outputs": [
    {
     "name": "stdout",
     "output_type": "stream",
     "text": [
      "logistic_model performence :\n"
     ]
    },
    {
     "data": {
      "image/png": "[encoded data removed]",
      "text/plain": [
       "<Figure size 640x480 with 2 Axes>"
      ]
     },
     "metadata": {},
     "output_type": "display_data"
    },
    {
     "name": "stdout",
     "output_type": "stream",
     "text": [
      "-----------------------------\n",
      "svm_model performence :\n"
     ]
    },
    {
     "data": {
      "image/png": "[encoded data removed]",
      "text/plain": [
       "<Figure size 640x480 with 2 Axes>"
      ]
     },
     "metadata": {},
     "output_type": "display_data"
    },
    {
     "name": "stdout",
     "output_type": "stream",
     "text": [
      "-----------------------------\n",
      "decisionTree_model performence :\n"
     ]
    },
    {
     "data": {
      "image/png": "[encoded data removed]",
      "text/plain": [
       "<Figure size 640x480 with 2 Axes>"
      ]
     },
     "metadata": {},
     "output_type": "display_data"
    },
    {
     "name": "stdout",
     "output_type": "stream",
     "text": [
      "-----------------------------\n",
      "RandomForest_model performence :\n"
     ]
    },
    {
     "data": {
      "image/png": "[encoded data removed]",
      "text/plain": [
       "<Figure size 640x480 with 2 Axes>"
      ]
     },
     "metadata": {},
     "output_type": "display_data"
    },
    {
     "name": "stdout",
     "output_type": "stream",
     "text": [
      "-----------------------------\n"
     ]
    }
   ],
   "source": [
    "for i in models.keys():\n",
    "    print(i,\"performence :\")\n",
    "    y_predict = models[i].predict(x_test)\n",
    "    cm = confusion_matrix(y_test,y_predict)\n",
    "    dm = ConfusionMatrixDisplay(cm)\n",
    "    dm.plot()\n",
    "    plt.show()\n",
    "    print(\"-----------------------------\")"
   ]
  },
  {
   "cell_type": "code",
   "execution_count": 33,
   "id": "526b6f00-1530-42be-bb26-74d9a7d39450",
   "metadata": {},
   "outputs": [],
   "source": [
    "model = models.get(\"RandomForest_model\")"
   ]
  },
  {
   "cell_type": "code",
   "execution_count": 35,
   "id": "c8613729-9b99-420f-9db8-8816e2e56dfa",
   "metadata": {},
   "outputs": [
    {
     "data": {
      "text/plain": [
       "['../models/Fraud_detection_model.pkl']"
      ]
     },
     "execution_count": 35,
     "metadata": {},
     "output_type": "execute_result"
    }
   ],
   "source": [
    "import joblib\n",
    "model_saved_path = \"../models/Fraud_detection_model.pkl\"\n",
    "joblib.dump(model,model_saved_path)"
   ]
  },
  {
   "cell_type": "code",
   "execution_count": null,
   "id": "80129f0a-cae1-43b6-be0e-4f3515d7b389",
   "metadata": {},
   "outputs": [],
   "source": []
  }
 ],
 "metadata": {
  "kernelspec": {
   "display_name": "Python 3 (ipykernel)",
   "language": "python",
   "name": "python3"
  },
  "language_info": {
   "codemirror_mode": {
    "name": "ipython",
    "version": 3
   },
   "file_extension": ".py",
   "mimetype": "text/x-python",
   "name": "python",
   "nbconvert_exporter": "python",
   "pygments_lexer": "ipython3",
   "version": "3.12.4"
  }
 },
 "nbformat": 4,
 "nbformat_minor": 5
}
